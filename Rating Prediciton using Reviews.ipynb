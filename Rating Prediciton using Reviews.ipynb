{
 "cells": [
  {
   "cell_type": "code",
   "execution_count": 1,
   "metadata": {},
   "outputs": [],
   "source": [
    "import numpy as np\n",
    "import pandas as pd\n",
    "import matplotlib.pyplot as plt\n",
    "import seaborn as sns\n",
    "import re"
   ]
  },
  {
   "cell_type": "code",
   "execution_count": 2,
   "metadata": {},
   "outputs": [],
   "source": [
    "data = pd.read_csv('./Dataset/rating_reviews.csv')"
   ]
  },
  {
   "cell_type": "code",
   "execution_count": 3,
   "metadata": {},
   "outputs": [
    {
     "data": {
      "text/html": [
       "<div>\n",
       "<style scoped>\n",
       "    .dataframe tbody tr th:only-of-type {\n",
       "        vertical-align: middle;\n",
       "    }\n",
       "\n",
       "    .dataframe tbody tr th {\n",
       "        vertical-align: top;\n",
       "    }\n",
       "\n",
       "    .dataframe thead th {\n",
       "        text-align: right;\n",
       "    }\n",
       "</style>\n",
       "<table border=\"1\" class=\"dataframe\">\n",
       "  <thead>\n",
       "    <tr style=\"text-align: right;\">\n",
       "      <th></th>\n",
       "      <th>Review</th>\n",
       "      <th>Rating</th>\n",
       "    </tr>\n",
       "  </thead>\n",
       "  <tbody>\n",
       "    <tr>\n",
       "      <th>0</th>\n",
       "      <td>nice hotel expensive parking got good deal sta...</td>\n",
       "      <td>4</td>\n",
       "    </tr>\n",
       "    <tr>\n",
       "      <th>1</th>\n",
       "      <td>ok nothing special charge diamond member hilto...</td>\n",
       "      <td>2</td>\n",
       "    </tr>\n",
       "    <tr>\n",
       "      <th>2</th>\n",
       "      <td>nice rooms not 4* experience hotel monaco seat...</td>\n",
       "      <td>3</td>\n",
       "    </tr>\n",
       "    <tr>\n",
       "      <th>3</th>\n",
       "      <td>unique, great stay, wonderful time hotel monac...</td>\n",
       "      <td>5</td>\n",
       "    </tr>\n",
       "    <tr>\n",
       "      <th>4</th>\n",
       "      <td>great stay great stay, went seahawk game aweso...</td>\n",
       "      <td>5</td>\n",
       "    </tr>\n",
       "  </tbody>\n",
       "</table>\n",
       "</div>"
      ],
      "text/plain": [
       "                                              Review  Rating\n",
       "0  nice hotel expensive parking got good deal sta...       4\n",
       "1  ok nothing special charge diamond member hilto...       2\n",
       "2  nice rooms not 4* experience hotel monaco seat...       3\n",
       "3  unique, great stay, wonderful time hotel monac...       5\n",
       "4  great stay great stay, went seahawk game aweso...       5"
      ]
     },
     "execution_count": 3,
     "metadata": {},
     "output_type": "execute_result"
    }
   ],
   "source": [
    "data.head()"
   ]
  },
  {
   "cell_type": "code",
   "execution_count": 4,
   "metadata": {},
   "outputs": [
    {
     "data": {
      "text/plain": [
       "(20491, 2)"
      ]
     },
     "execution_count": 4,
     "metadata": {},
     "output_type": "execute_result"
    }
   ],
   "source": [
    "data.shape"
   ]
  },
  {
   "cell_type": "code",
   "execution_count": 5,
   "metadata": {},
   "outputs": [
    {
     "data": {
      "text/plain": [
       "40982"
      ]
     },
     "execution_count": 5,
     "metadata": {},
     "output_type": "execute_result"
    }
   ],
   "source": [
    "data.size"
   ]
  },
  {
   "cell_type": "code",
   "execution_count": 6,
   "metadata": {},
   "outputs": [
    {
     "data": {
      "text/plain": [
       "Index(['Review', 'Rating'], dtype='object')"
      ]
     },
     "execution_count": 6,
     "metadata": {},
     "output_type": "execute_result"
    }
   ],
   "source": [
    "data.columns"
   ]
  },
  {
   "cell_type": "code",
   "execution_count": 7,
   "metadata": {},
   "outputs": [
    {
     "data": {
      "text/plain": [
       "Review    0\n",
       "Rating    0\n",
       "dtype: int64"
      ]
     },
     "execution_count": 7,
     "metadata": {},
     "output_type": "execute_result"
    }
   ],
   "source": [
    "data.isnull().sum()"
   ]
  },
  {
   "cell_type": "code",
   "execution_count": 8,
   "metadata": {},
   "outputs": [
    {
     "data": {
      "text/plain": [
       "5    9054\n",
       "4    6039\n",
       "3    2184\n",
       "2    1793\n",
       "1    1421\n",
       "Name: Rating, dtype: int64"
      ]
     },
     "execution_count": 8,
     "metadata": {},
     "output_type": "execute_result"
    }
   ],
   "source": [
    "data['Rating'].value_counts()"
   ]
  },
  {
   "cell_type": "code",
   "execution_count": 9,
   "metadata": {},
   "outputs": [],
   "source": [
    "data['Review'] = data['Review'].str.replace(\"[^a-zA-Z#]\",\" \")"
   ]
  },
  {
   "cell_type": "code",
   "execution_count": 10,
   "metadata": {},
   "outputs": [
    {
     "data": {
      "text/plain": [
       "0    [nice, hotel, expensive, parking, got, good, d...\n",
       "1    [ok, nothing, special, charge, diamond, member...\n",
       "2    [nice, rooms, not, experience, hotel, monaco, ...\n",
       "3    [unique, great, stay, wonderful, time, hotel, ...\n",
       "4    [great, stay, great, stay, went, seahawk, game...\n",
       "Name: Review, dtype: object"
      ]
     },
     "execution_count": 10,
     "metadata": {},
     "output_type": "execute_result"
    }
   ],
   "source": [
    "tokenized_reviews = data['Review'].apply(lambda x: x.split())\n",
    "tokenized_reviews.head()"
   ]
  },
  {
   "cell_type": "code",
   "execution_count": 11,
   "metadata": {},
   "outputs": [
    {
     "data": {
      "text/plain": [
       "20486    [best, kept, secret, rd, time, staying, charm,...\n",
       "20487    [great, location, price, view, hotel, great, q...\n",
       "20488    [ok, just, looks, nice, modern, outside, desk,...\n",
       "20489    [hotel, theft, ruined, vacation, hotel, opened...\n",
       "20490    [people, talking, ca, n, t, believe, excellent...\n",
       "Name: Review, dtype: object"
      ]
     },
     "execution_count": 11,
     "metadata": {},
     "output_type": "execute_result"
    }
   ],
   "source": [
    "tokenized_reviews.tail()"
   ]
  },
  {
   "cell_type": "code",
   "execution_count": 12,
   "metadata": {},
   "outputs": [
    {
     "data": {
      "text/plain": [
       "0    [nice, hotel, expens, park, got, good, deal, s...\n",
       "1    [ok, noth, special, charg, diamond, member, hi...\n",
       "2    [nice, room, not, experi, hotel, monaco, seatt...\n",
       "3    [uniqu, great, stay, wonder, time, hotel, mona...\n",
       "4    [great, stay, great, stay, went, seahawk, game...\n",
       "Name: Review, dtype: object"
      ]
     },
     "execution_count": 12,
     "metadata": {},
     "output_type": "execute_result"
    }
   ],
   "source": [
    "import nltk\n",
    "from nltk import PorterStemmer\n",
    "ps=PorterStemmer()\n",
    "tokenized_reviews=tokenized_reviews.apply(lambda x:[ps.stem(word) for word in x])\n",
    "tokenized_reviews.head()"
   ]
  },
  {
   "cell_type": "code",
   "execution_count": 13,
   "metadata": {},
   "outputs": [
    {
     "data": {
      "text/html": [
       "<div>\n",
       "<style scoped>\n",
       "    .dataframe tbody tr th:only-of-type {\n",
       "        vertical-align: middle;\n",
       "    }\n",
       "\n",
       "    .dataframe tbody tr th {\n",
       "        vertical-align: top;\n",
       "    }\n",
       "\n",
       "    .dataframe thead th {\n",
       "        text-align: right;\n",
       "    }\n",
       "</style>\n",
       "<table border=\"1\" class=\"dataframe\">\n",
       "  <thead>\n",
       "    <tr style=\"text-align: right;\">\n",
       "      <th></th>\n",
       "      <th>Review</th>\n",
       "      <th>Rating</th>\n",
       "      <th>Tokenized Review</th>\n",
       "    </tr>\n",
       "  </thead>\n",
       "  <tbody>\n",
       "    <tr>\n",
       "      <th>0</th>\n",
       "      <td>nice hotel expensive parking got good deal sta...</td>\n",
       "      <td>4</td>\n",
       "      <td>nice hotel expens park got good deal stay hote...</td>\n",
       "    </tr>\n",
       "    <tr>\n",
       "      <th>1</th>\n",
       "      <td>ok nothing special charge diamond member hilto...</td>\n",
       "      <td>2</td>\n",
       "      <td>ok noth special charg diamond member hilton de...</td>\n",
       "    </tr>\n",
       "    <tr>\n",
       "      <th>2</th>\n",
       "      <td>nice rooms not    experience hotel monaco seat...</td>\n",
       "      <td>3</td>\n",
       "      <td>nice room not experi hotel monaco seattl good ...</td>\n",
       "    </tr>\n",
       "    <tr>\n",
       "      <th>3</th>\n",
       "      <td>unique  great stay  wonderful time hotel monac...</td>\n",
       "      <td>5</td>\n",
       "      <td>uniqu great stay wonder time hotel monaco loca...</td>\n",
       "    </tr>\n",
       "    <tr>\n",
       "      <th>4</th>\n",
       "      <td>great stay great stay  went seahawk game aweso...</td>\n",
       "      <td>5</td>\n",
       "      <td>great stay great stay went seahawk game awesom...</td>\n",
       "    </tr>\n",
       "  </tbody>\n",
       "</table>\n",
       "</div>"
      ],
      "text/plain": [
       "                                              Review  Rating  \\\n",
       "0  nice hotel expensive parking got good deal sta...       4   \n",
       "1  ok nothing special charge diamond member hilto...       2   \n",
       "2  nice rooms not    experience hotel monaco seat...       3   \n",
       "3  unique  great stay  wonderful time hotel monac...       5   \n",
       "4  great stay great stay  went seahawk game aweso...       5   \n",
       "\n",
       "                                    Tokenized Review  \n",
       "0  nice hotel expens park got good deal stay hote...  \n",
       "1  ok noth special charg diamond member hilton de...  \n",
       "2  nice room not experi hotel monaco seattl good ...  \n",
       "3  uniqu great stay wonder time hotel monaco loca...  \n",
       "4  great stay great stay went seahawk game awesom...  "
      ]
     },
     "execution_count": 13,
     "metadata": {},
     "output_type": "execute_result"
    }
   ],
   "source": [
    "for i in range(len(tokenized_reviews)):\n",
    "    tokenized_reviews[i]=' '.join(tokenized_reviews[i])\n",
    "    data['Tokenized Review']=tokenized_reviews\n",
    "data.head()"
   ]
  },
  {
   "cell_type": "code",
   "execution_count": 14,
   "metadata": {},
   "outputs": [
    {
     "data": {
      "text/html": [
       "<div>\n",
       "<style scoped>\n",
       "    .dataframe tbody tr th:only-of-type {\n",
       "        vertical-align: middle;\n",
       "    }\n",
       "\n",
       "    .dataframe tbody tr th {\n",
       "        vertical-align: top;\n",
       "    }\n",
       "\n",
       "    .dataframe thead th {\n",
       "        text-align: right;\n",
       "    }\n",
       "</style>\n",
       "<table border=\"1\" class=\"dataframe\">\n",
       "  <thead>\n",
       "    <tr style=\"text-align: right;\">\n",
       "      <th></th>\n",
       "      <th>Review</th>\n",
       "      <th>Rating</th>\n",
       "      <th>Tokenized Review</th>\n",
       "    </tr>\n",
       "  </thead>\n",
       "  <tbody>\n",
       "    <tr>\n",
       "      <th>20486</th>\n",
       "      <td>best kept secret  rd time staying charm  not  ...</td>\n",
       "      <td>5</td>\n",
       "      <td>best kept secret rd time stay charm not star c...</td>\n",
       "    </tr>\n",
       "    <tr>\n",
       "      <th>20487</th>\n",
       "      <td>great location price view hotel great quick pl...</td>\n",
       "      <td>4</td>\n",
       "      <td>great locat price view hotel great quick place...</td>\n",
       "    </tr>\n",
       "    <tr>\n",
       "      <th>20488</th>\n",
       "      <td>ok just looks nice modern outside  desk staff ...</td>\n",
       "      <td>2</td>\n",
       "      <td>ok just look nice modern outsid desk staff n t...</td>\n",
       "    </tr>\n",
       "    <tr>\n",
       "      <th>20489</th>\n",
       "      <td>hotel theft ruined vacation hotel opened sept ...</td>\n",
       "      <td>1</td>\n",
       "      <td>hotel theft ruin vacat hotel open sept guest w...</td>\n",
       "    </tr>\n",
       "    <tr>\n",
       "      <th>20490</th>\n",
       "      <td>people talking  ca n t believe excellent ratin...</td>\n",
       "      <td>2</td>\n",
       "      <td>peopl talk ca n t believ excel rate hotel just...</td>\n",
       "    </tr>\n",
       "  </tbody>\n",
       "</table>\n",
       "</div>"
      ],
      "text/plain": [
       "                                                  Review  Rating  \\\n",
       "20486  best kept secret  rd time staying charm  not  ...       5   \n",
       "20487  great location price view hotel great quick pl...       4   \n",
       "20488  ok just looks nice modern outside  desk staff ...       2   \n",
       "20489  hotel theft ruined vacation hotel opened sept ...       1   \n",
       "20490  people talking  ca n t believe excellent ratin...       2   \n",
       "\n",
       "                                        Tokenized Review  \n",
       "20486  best kept secret rd time stay charm not star c...  \n",
       "20487  great locat price view hotel great quick place...  \n",
       "20488  ok just look nice modern outsid desk staff n t...  \n",
       "20489  hotel theft ruin vacat hotel open sept guest w...  \n",
       "20490  peopl talk ca n t believ excel rate hotel just...  "
      ]
     },
     "execution_count": 14,
     "metadata": {},
     "output_type": "execute_result"
    }
   ],
   "source": [
    "data.tail()"
   ]
  },
  {
   "cell_type": "markdown",
   "metadata": {},
   "source": [
    "# FEATURE EXTRACTION"
   ]
  },
  {
   "cell_type": "markdown",
   "metadata": {},
   "source": [
    "# Using Count Vectorizer"
   ]
  },
  {
   "cell_type": "code",
   "execution_count": 15,
   "metadata": {},
   "outputs": [],
   "source": [
    "from sklearn.feature_extraction.text import CountVectorizer"
   ]
  },
  {
   "cell_type": "code",
   "execution_count": 16,
   "metadata": {},
   "outputs": [],
   "source": [
    "count_vector_bow=CountVectorizer(max_features=6000,stop_words='english',ngram_range=(1,4))\n",
    "x_bow = count_vector_bow.fit_transform(data['Tokenized Review']).toarray()"
   ]
  },
  {
   "cell_type": "code",
   "execution_count": 17,
   "metadata": {},
   "outputs": [
    {
     "data": {
      "text/plain": [
       "(20491, 6000)"
      ]
     },
     "execution_count": 17,
     "metadata": {},
     "output_type": "execute_result"
    }
   ],
   "source": [
    "x_bow.shape"
   ]
  },
  {
   "cell_type": "code",
   "execution_count": 18,
   "metadata": {},
   "outputs": [],
   "source": [
    "y_bow=data['Rating']"
   ]
  },
  {
   "cell_type": "code",
   "execution_count": 19,
   "metadata": {},
   "outputs": [
    {
     "data": {
      "text/plain": [
       "(20491,)"
      ]
     },
     "execution_count": 19,
     "metadata": {},
     "output_type": "execute_result"
    }
   ],
   "source": [
    "y_bow.shape"
   ]
  },
  {
   "cell_type": "code",
   "execution_count": 20,
   "metadata": {},
   "outputs": [],
   "source": [
    "from sklearn.model_selection import train_test_split"
   ]
  },
  {
   "cell_type": "code",
   "execution_count": 21,
   "metadata": {},
   "outputs": [],
   "source": [
    "x_train_bow,x_test_bow,y_train_bow,y_test_bow=train_test_split(x_bow,y_bow,test_size=0.3,random_state=7)"
   ]
  },
  {
   "cell_type": "code",
   "execution_count": 22,
   "metadata": {},
   "outputs": [
    {
     "data": {
      "text/plain": [
       "['aaa',\n",
       " 'abl',\n",
       " 'abl check',\n",
       " 'abl use',\n",
       " 'abl walk',\n",
       " 'absolut',\n",
       " 'absolut beauti',\n",
       " 'absolut gorgeou',\n",
       " 'absolut love',\n",
       " 'absolut wonder',\n",
       " 'abund',\n",
       " 'ac',\n",
       " 'accademia',\n",
       " 'accept',\n",
       " 'access',\n",
       " 'access internet',\n",
       " 'access room',\n",
       " 'accid',\n",
       " 'accommod',\n",
       " 'accomod',\n",
       " 'accompani',\n",
       " 'accord',\n",
       " 'account',\n",
       " 'accur',\n",
       " 'acknowledg',\n",
       " 'act',\n",
       " 'action',\n",
       " 'activ',\n",
       " 'actual',\n",
       " 'ad',\n",
       " 'ad bonu',\n",
       " 'adagio',\n",
       " 'add',\n",
       " 'addit',\n",
       " 'address',\n",
       " 'adequ',\n",
       " 'adjac',\n",
       " 'adjoin',\n",
       " 'adjoin room',\n",
       " 'adjust',\n",
       " 'admit',\n",
       " 'adult',\n",
       " 'adult children',\n",
       " 'advanc',\n",
       " 'advantag',\n",
       " 'adventur',\n",
       " 'advertis',\n",
       " 'advic',\n",
       " 'advis',\n",
       " 'advisor',\n",
       " 'advisor review',\n",
       " 'aerob',\n",
       " 'affect',\n",
       " 'affinia',\n",
       " 'affinia dumont',\n",
       " 'afford',\n",
       " 'afraid',\n",
       " 'afternoon',\n",
       " 'afternoon tea',\n",
       " 'age',\n",
       " 'agenc',\n",
       " 'agent',\n",
       " 'aggress',\n",
       " 'ago',\n",
       " 'agre',\n",
       " 'agre review',\n",
       " 'ahead',\n",
       " 'ahead time',\n",
       " 'air',\n",
       " 'air condit',\n",
       " 'air condit room',\n",
       " 'air condit work',\n",
       " 'air condition',\n",
       " 'aircon',\n",
       " 'aircondit',\n",
       " 'airi',\n",
       " 'airlin',\n",
       " 'airport',\n",
       " 'airport bu',\n",
       " 'airport hotel',\n",
       " 'airport shuttl',\n",
       " 'al',\n",
       " 'ala',\n",
       " 'ala cart',\n",
       " 'ala cart restaur',\n",
       " 'alarm',\n",
       " 'alarm clock',\n",
       " 'albeit',\n",
       " 'alcatraz',\n",
       " 'alcohol',\n",
       " 'alley',\n",
       " 'alloc',\n",
       " 'allow',\n",
       " 'alot',\n",
       " 'alright',\n",
       " 'altern',\n",
       " 'amaz',\n",
       " 'amaz hotel',\n",
       " 'amaz room',\n",
       " 'amaz time',\n",
       " 'amaz view',\n",
       " 'amazingli',\n",
       " 'ambianc',\n",
       " 'ambienc',\n",
       " 'amen',\n",
       " 'america',\n",
       " 'american',\n",
       " 'ammen',\n",
       " 'ampl',\n",
       " 'amsterdam',\n",
       " 'amus',\n",
       " 'angel',\n",
       " 'angri',\n",
       " 'anim',\n",
       " 'anim team',\n",
       " 'ann',\n",
       " 'ann frank',\n",
       " 'ann frank hous',\n",
       " 'anniversari',\n",
       " 'annoy',\n",
       " 'anoth',\n",
       " 'answer',\n",
       " 'answer question',\n",
       " 'ant',\n",
       " 'anticip',\n",
       " 'antiqu',\n",
       " 'anybodi',\n",
       " 'anymor',\n",
       " 'anytim',\n",
       " 'apart',\n",
       " 'apolog',\n",
       " 'apologet',\n",
       " 'appar',\n",
       " 'appeal',\n",
       " 'appear',\n",
       " 'appet',\n",
       " 'appl',\n",
       " 'appl rep',\n",
       " 'appl vacat',\n",
       " 'appli',\n",
       " 'appoint',\n",
       " 'appoint room',\n",
       " 'appreci',\n",
       " 'apprehens',\n",
       " 'approach',\n",
       " 'appropri',\n",
       " 'approx',\n",
       " 'approxim',\n",
       " 'april',\n",
       " 'aqua',\n",
       " 'aqua palm',\n",
       " 'aquarium',\n",
       " 'arc',\n",
       " 'arc triomph',\n",
       " 'architectur',\n",
       " 'area',\n",
       " 'area beach',\n",
       " 'area beauti',\n",
       " 'area clean',\n",
       " 'area close',\n",
       " 'area did',\n",
       " 'area good',\n",
       " 'area great',\n",
       " 'area hotel',\n",
       " 'area just',\n",
       " 'area nice',\n",
       " 'area pool',\n",
       " 'area room',\n",
       " 'area small',\n",
       " 'area staff',\n",
       " 'area walk',\n",
       " 'argonaut',\n",
       " 'argu',\n",
       " 'arm',\n",
       " 'arno',\n",
       " 'arrang',\n",
       " 'arriv',\n",
       " 'arriv airport',\n",
       " 'arriv check',\n",
       " 'arriv earli',\n",
       " 'arriv hotel',\n",
       " 'arriv late',\n",
       " 'arriv pm',\n",
       " 'arriv resort',\n",
       " 'arriv room',\n",
       " 'arriv staff',\n",
       " 'arriv told',\n",
       " 'art',\n",
       " 'artist',\n",
       " 'asia',\n",
       " 'asian',\n",
       " 'asid',\n",
       " 'ask',\n",
       " 'ask better',\n",
       " 'ask chang',\n",
       " 'ask desk',\n",
       " 'ask extra',\n",
       " 'ask hotel',\n",
       " 'ask question',\n",
       " 'ask room',\n",
       " 'ask staff',\n",
       " 'ask want',\n",
       " 'asleep',\n",
       " 'aspect',\n",
       " 'assign',\n",
       " 'assign room',\n",
       " 'assist',\n",
       " 'assort',\n",
       " 'assum',\n",
       " 'assur',\n",
       " 'ate',\n",
       " 'ate breakfast',\n",
       " 'ate buffet',\n",
       " 'ate restaur',\n",
       " 'atlant',\n",
       " 'atm',\n",
       " 'atmospher',\n",
       " 'atrium',\n",
       " 'attach',\n",
       " 'attempt',\n",
       " 'attend',\n",
       " 'attent',\n",
       " 'attent staff',\n",
       " 'attitud',\n",
       " 'attract',\n",
       " 'atv',\n",
       " 'au',\n",
       " 'audienc',\n",
       " 'aug',\n",
       " 'august',\n",
       " 'australia',\n",
       " 'authent',\n",
       " 'automat',\n",
       " 'avail',\n",
       " 'avail hotel',\n",
       " 'avail room',\n",
       " 'ave',\n",
       " 'aveda',\n",
       " 'avenu',\n",
       " 'averag',\n",
       " 'averag hotel',\n",
       " 'averag size',\n",
       " 'avoid',\n",
       " 'aw',\n",
       " 'await',\n",
       " 'awak',\n",
       " 'awar',\n",
       " 'away',\n",
       " 'away home',\n",
       " 'away hotel',\n",
       " 'away room',\n",
       " 'awesom',\n",
       " 'awhil',\n",
       " 'babi',\n",
       " 'background',\n",
       " 'bacon',\n",
       " 'bad',\n",
       " 'bad experi',\n",
       " 'bad hotel',\n",
       " 'bad review',\n",
       " 'bad servic',\n",
       " 'bad thing',\n",
       " 'badli',\n",
       " 'bag',\n",
       " 'bag room',\n",
       " 'bagel',\n",
       " 'baggag',\n",
       " 'bahama',\n",
       " 'bahia',\n",
       " 'bahia princip',\n",
       " 'bahn',\n",
       " 'bake',\n",
       " 'bakeri',\n",
       " 'balanc',\n",
       " 'balconi',\n",
       " 'balconi door',\n",
       " 'balconi overlook',\n",
       " 'balconi room',\n",
       " 'bali',\n",
       " 'balines',\n",
       " 'ball',\n",
       " 'bamboo',\n",
       " 'bambu',\n",
       " 'banana',\n",
       " 'band',\n",
       " 'bang',\n",
       " 'bank',\n",
       " 'bar',\n",
       " 'bar area',\n",
       " 'bar beach',\n",
       " 'bar close',\n",
       " 'bar did',\n",
       " 'bar drink',\n",
       " 'bar food',\n",
       " 'bar good',\n",
       " 'bar great',\n",
       " 'bar hotel',\n",
       " 'bar lobbi',\n",
       " 'bar nice',\n",
       " 'bar night',\n",
       " 'bar open',\n",
       " 'bar pool',\n",
       " 'bar restaur',\n",
       " 'bar room',\n",
       " 'bar servic',\n",
       " 'bar staff',\n",
       " 'bar stock',\n",
       " 'barcelo',\n",
       " 'barcelo bavaro',\n",
       " 'barcelona',\n",
       " 'barcelona hotel',\n",
       " 'barcelona stay',\n",
       " 'bare',\n",
       " 'bargain',\n",
       " 'barrier',\n",
       " 'bart',\n",
       " 'bartend',\n",
       " 'barter',\n",
       " 'base',\n",
       " 'base explor',\n",
       " 'base review',\n",
       " 'basement',\n",
       " 'basi',\n",
       " 'basic',\n",
       " 'basic clean',\n",
       " 'basic room',\n",
       " 'basket',\n",
       " 'bath',\n",
       " 'bath product',\n",
       " 'bath room',\n",
       " 'bath shower',\n",
       " 'bath suit',\n",
       " 'bath tub',\n",
       " 'bathrob',\n",
       " 'bathroom',\n",
       " 'bathroom big',\n",
       " 'bathroom bit',\n",
       " 'bathroom clean',\n",
       " 'bathroom door',\n",
       " 'bathroom floor',\n",
       " 'bathroom good',\n",
       " 'bathroom great',\n",
       " 'bathroom huge',\n",
       " 'bathroom larg',\n",
       " 'bathroom modern',\n",
       " 'bathroom nice',\n",
       " 'bathroom room',\n",
       " 'bathroom shower',\n",
       " 'bathroom small',\n",
       " 'bathroom spaciou',\n",
       " 'bathroom tini',\n",
       " 'bathtub',\n",
       " 'batteri',\n",
       " 'bavaro',\n",
       " 'bavaro beach',\n",
       " 'bavaro princess',\n",
       " 'bay',\n",
       " 'bb',\n",
       " 'bbc',\n",
       " 'bbq',\n",
       " 'beach',\n",
       " 'beach amaz',\n",
       " 'beach area',\n",
       " 'beach bar',\n",
       " 'beach beach',\n",
       " 'beach beauti',\n",
       " 'beach best',\n",
       " 'beach chair',\n",
       " 'beach clean',\n",
       " 'beach day',\n",
       " 'beach did',\n",
       " 'beach food',\n",
       " 'beach good',\n",
       " 'beach gorgeou',\n",
       " 'beach great',\n",
       " 'beach hotel',\n",
       " 'beach just',\n",
       " 'beach love',\n",
       " 'beach minut',\n",
       " 'beach nice',\n",
       " 'beach parti',\n",
       " 'beach pool',\n",
       " 'beach resort',\n",
       " 'beach restaur',\n",
       " 'beach right',\n",
       " 'beach room',\n",
       " 'beach staff',\n",
       " 'beach towel',\n",
       " 'beach walk',\n",
       " 'beach water',\n",
       " 'bean',\n",
       " 'bear',\n",
       " 'beat',\n",
       " 'beat locat',\n",
       " 'beaten',\n",
       " 'beauti',\n",
       " 'beauti beach',\n",
       " 'beauti citi',\n",
       " 'beauti clean',\n",
       " 'beauti decor',\n",
       " 'beauti food',\n",
       " 'beauti ground',\n",
       " 'beauti hotel',\n",
       " 'beauti place',\n",
       " 'beauti pool',\n",
       " 'beauti resort',\n",
       " 'beauti room',\n",
       " 'beauti staff',\n",
       " 'beauti view',\n",
       " 'bed',\n",
       " 'bed bathroom',\n",
       " 'bed bed',\n",
       " 'bed breakfast',\n",
       " 'bed bug',\n",
       " 'bed clean',\n",
       " 'bed comfi',\n",
       " 'bed comfort',\n",
       " 'bed comfort bathroom',\n",
       " 'bed comfort room',\n",
       " 'bed extrem',\n",
       " 'bed extrem comfort',\n",
       " 'bed good',\n",
       " 'bed great',\n",
       " 'bed hard',\n",
       " 'bed larg',\n",
       " 'bed linen',\n",
       " 'bed nice',\n",
       " 'bed night',\n",
       " 'bed pillow',\n",
       " 'bed push',\n",
       " 'bed realli',\n",
       " 'bed room',\n",
       " 'bed sheet',\n",
       " 'bed slept',\n",
       " 'bed small',\n",
       " 'bedroom',\n",
       " 'bedroom bathroom',\n",
       " 'bedroom suit',\n",
       " 'bedsid',\n",
       " 'beef',\n",
       " 'beer',\n",
       " 'beg',\n",
       " 'began',\n",
       " 'begin',\n",
       " 'beij',\n",
       " 'believ',\n",
       " 'bell',\n",
       " 'bell boy',\n",
       " 'bellboy',\n",
       " 'bellhop',\n",
       " 'bellman',\n",
       " 'bellmen',\n",
       " 'belong',\n",
       " 'benefit',\n",
       " 'benjamin',\n",
       " 'berlin',\n",
       " 'best',\n",
       " 'best beach',\n",
       " 'best deal',\n",
       " 'best food',\n",
       " 'best hotel',\n",
       " 'best hotel stay',\n",
       " 'best locat',\n",
       " 'best meal',\n",
       " 'best place',\n",
       " 'best resort',\n",
       " 'best restaur',\n",
       " 'best room',\n",
       " 'best seen',\n",
       " 'best servic',\n",
       " 'best stay',\n",
       " 'best thing',\n",
       " 'best thing hotel',\n",
       " 'best time',\n",
       " 'best trip',\n",
       " 'best vacat',\n",
       " 'best valu',\n",
       " 'best way',\n",
       " 'best western',\n",
       " 'bet',\n",
       " 'better',\n",
       " 'better expect',\n",
       " 'better food',\n",
       " 'better hotel',\n",
       " 'better locat',\n",
       " 'better place',\n",
       " 'better room',\n",
       " 'better servic',\n",
       " 'better stay',\n",
       " 'better valu',\n",
       " 'beverag',\n",
       " 'bewar',\n",
       " 'bidet',\n",
       " 'big',\n",
       " 'big bathroom',\n",
       " 'big citi',\n",
       " 'big clean',\n",
       " 'big deal',\n",
       " 'big plu',\n",
       " 'big problem',\n",
       " 'big room',\n",
       " 'bigger',\n",
       " 'bigger room',\n",
       " 'biggest',\n",
       " 'bike',\n",
       " 'bird',\n",
       " 'birthday',\n",
       " 'bistro',\n",
       " 'bit',\n",
       " 'bit disappoint',\n",
       " 'bit expens',\n",
       " 'bit noisi',\n",
       " 'bit pricey',\n",
       " 'bit small',\n",
       " 'bite',\n",
       " 'black',\n",
       " 'blame',\n",
       " 'bland',\n",
       " 'blanket',\n",
       " 'blast',\n",
       " 'bless',\n",
       " 'blind',\n",
       " 'bliss',\n",
       " 'block',\n",
       " 'block away',\n",
       " 'block hotel',\n",
       " 'block walk',\n",
       " 'blow',\n",
       " 'blown',\n",
       " 'blue',\n",
       " 'blue water',\n",
       " 'board',\n",
       " 'board pass',\n",
       " 'boat',\n",
       " 'boat ride',\n",
       " 'bodi',\n",
       " 'boil',\n",
       " 'boil egg',\n",
       " 'bonu',\n",
       " 'boogi',\n",
       " 'boogi board',\n",
       " 'book',\n",
       " 'book advanc',\n",
       " 'book day',\n",
       " 'book directli',\n",
       " 'book directli hotel',\n",
       " 'book hotel',\n",
       " 'book night',\n",
       " 'book onlin',\n",
       " 'book reserv',\n",
       " 'book room',\n",
       " 'book stay',\n",
       " 'book tour',\n",
       " 'book trip',\n",
       " 'boot',\n",
       " 'booth',\n",
       " 'booz',\n",
       " 'bore',\n",
       " 'borrow',\n",
       " 'boston',\n",
       " 'bother',\n",
       " 'bottl',\n",
       " 'bottl champagn',\n",
       " 'bottl water',\n",
       " 'bottl wine',\n",
       " 'bought',\n",
       " 'bourbon',\n",
       " 'bourbon street',\n",
       " 'boutiqu',\n",
       " 'boutiqu hotel',\n",
       " 'bowl',\n",
       " 'box',\n",
       " 'boy',\n",
       " 'boyfriend',\n",
       " 'boyfriend stay',\n",
       " 'br',\n",
       " 'bracelet',\n",
       " 'brand',\n",
       " 'brand new',\n",
       " 'bravo',\n",
       " 'brazilian',\n",
       " 'bread',\n",
       " 'break',\n",
       " 'breakfast',\n",
       " 'breakfast adequ',\n",
       " 'breakfast area',\n",
       " 'breakfast best',\n",
       " 'breakfast buffet',\n",
       " 'breakfast buffet good',\n",
       " 'breakfast day',\n",
       " 'breakfast delici',\n",
       " 'breakfast did',\n",
       " 'breakfast dinner',\n",
       " 'breakfast euro',\n",
       " 'breakfast excel',\n",
       " 'breakfast fine',\n",
       " 'breakfast food',\n",
       " 'breakfast good',\n",
       " 'breakfast great',\n",
       " 'breakfast hotel',\n",
       " 'breakfast includ',\n",
       " 'breakfast includ room',\n",
       " 'breakfast just',\n",
       " 'breakfast lunch',\n",
       " 'breakfast lunch dinner',\n",
       " 'breakfast morn',\n",
       " 'breakfast nice',\n",
       " 'breakfast ok',\n",
       " 'breakfast plenti',\n",
       " 'breakfast realli',\n",
       " 'breakfast restaur',\n",
       " 'breakfast room',\n",
       " 'breakfast serv',\n",
       " 'breakfast staff',\n",
       " 'breath',\n",
       " 'breathtak',\n",
       " 'breez',\n",
       " 'brick',\n",
       " 'brick wall',\n",
       " 'bridg',\n",
       " 'brief',\n",
       " 'bright',\n",
       " 'brilliant',\n",
       " 'bring',\n",
       " 'bring lot',\n",
       " 'british',\n",
       " 'broadway',\n",
       " 'brochur',\n",
       " 'broke',\n",
       " 'broken',\n",
       " 'brother',\n",
       " 'brought',\n",
       " 'brought room',\n",
       " 'brown',\n",
       " 'brush',\n",
       " 'brush teeth',\n",
       " 'bryant',\n",
       " 'bryant park',\n",
       " 'bu',\n",
       " 'bu airport',\n",
       " 'bu ride',\n",
       " 'bu station',\n",
       " 'bu stop',\n",
       " 'bubbl',\n",
       " 'buck',\n",
       " 'bucket',\n",
       " 'budget',\n",
       " 'budget hotel',\n",
       " 'buffet',\n",
       " 'buffet breakfast',\n",
       " 'buffet food',\n",
       " 'buffet good',\n",
       " 'buffet great',\n",
       " 'buffet restaur',\n",
       " 'buffet style',\n",
       " 'buffett',\n",
       " 'bug',\n",
       " 'bug spray',\n",
       " 'buggi',\n",
       " 'build',\n",
       " 'build room',\n",
       " 'build work',\n",
       " 'built',\n",
       " 'bulb',\n",
       " 'bump',\n",
       " 'bumpi',\n",
       " 'bunch',\n",
       " 'bungalow',\n",
       " 'burger',\n",
       " 'burn',\n",
       " 'buse',\n",
       " 'busi',\n",
       " 'busi center',\n",
       " 'busi day',\n",
       " 'busi hotel',\n",
       " 'busi street',\n",
       " 'busi travel',\n",
       " 'busi trip',\n",
       " 'bustl',\n",
       " 'butler',\n",
       " 'butt',\n",
       " 'butter',\n",
       " 'button',\n",
       " 'buy',\n",
       " 'buzz',\n",
       " 'ca',\n",
       " 'ca beat',\n",
       " 'ca comment',\n",
       " 'ca imagin',\n",
       " 'ca say',\n",
       " 'ca wait',\n",
       " 'ca wait return',\n",
       " 'cab',\n",
       " 'cab ride',\n",
       " 'cabana',\n",
       " 'cabinet',\n",
       " 'cabl',\n",
       " 'cabl car',\n",
       " 'caf',\n",
       " 'cafe',\n",
       " 'cake',\n",
       " 'california',\n",
       " 'calm',\n",
       " 'came',\n",
       " 'came room',\n",
       " 'camera',\n",
       " 'camp',\n",
       " 'cana',\n",
       " 'cana airport',\n",
       " 'cana resort',\n",
       " 'canada',\n",
       " 'canadian',\n",
       " 'canal',\n",
       " 'canal view',\n",
       " 'cancel',\n",
       " 'cancun',\n",
       " 'candi',\n",
       " 'candl',\n",
       " 'cap',\n",
       " 'capac',\n",
       " 'car',\n",
       " 'car park',\n",
       " 'card',\n",
       " 'care',\n",
       " 'carib',\n",
       " 'carib hilton',\n",
       " 'carib tropic',\n",
       " 'caribbean',\n",
       " 'carlo',\n",
       " 'carlton',\n",
       " 'carpet',\n",
       " 'carri',\n",
       " 'carri bag',\n",
       " 'carri luggag',\n",
       " 'carribean',\n",
       " 'cart',\n",
       " 'cart restaur',\n",
       " 'casa',\n",
       " 'casablanca',\n",
       " 'casci',\n",
       " 'case',\n",
       " 'cash',\n",
       " 'casino',\n",
       " 'casita',\n",
       " 'castl',\n",
       " 'castl inn',\n",
       " 'casual',\n",
       " 'cat',\n",
       " 'catalonia',\n",
       " 'catalunya',\n",
       " 'catamaran',\n",
       " 'catch',\n",
       " 'categori',\n",
       " 'cater',\n",
       " 'cathedr',\n",
       " 'caught',\n",
       " 'caus',\n",
       " 'caution',\n",
       " 'cava',\n",
       " 'cbd',\n",
       " 'cd',\n",
       " 'cd player',\n",
       " 'ceil',\n",
       " 'ceil fan',\n",
       " 'celebr',\n",
       " 'celebr th',\n",
       " 'cell',\n",
       " 'cell phone',\n",
       " 'cent',\n",
       " 'center',\n",
       " 'centr',\n",
       " 'centraal',\n",
       " 'centraal station',\n",
       " 'central',\n",
       " 'central locat',\n",
       " 'central park',\n",
       " 'central station',\n",
       " 'centuri',\n",
       " 'cereal',\n",
       " 'cereal fruit',\n",
       " 'certain',\n",
       " 'certainli',\n",
       " 'certainli recommend',\n",
       " 'certainli stay',\n",
       " 'chain',\n",
       " 'chain hotel',\n",
       " 'chair',\n",
       " 'chair beach',\n",
       " 'chair pool',\n",
       " 'challeng',\n",
       " 'champ',\n",
       " 'champ elyse',\n",
       " 'champagn',\n",
       " 'chanc',\n",
       " 'chancellor',\n",
       " 'chang',\n",
       " 'chang day',\n",
       " 'chang hotel',\n",
       " 'chang room',\n",
       " 'channel',\n",
       " 'charact',\n",
       " 'charg',\n",
       " 'charg euro',\n",
       " 'charg night',\n",
       " 'charg room',\n",
       " 'charl',\n",
       " 'charli',\n",
       " 'charm',\n",
       " 'charm hotel',\n",
       " 'chase',\n",
       " 'chat',\n",
       " 'cheap',\n",
       " 'cheaper',\n",
       " 'cheapest',\n",
       " 'check',\n",
       " 'check ask',\n",
       " 'check breez',\n",
       " 'check check',\n",
       " 'check day',\n",
       " 'check desk',\n",
       " 'check did',\n",
       " 'check earli',\n",
       " 'check email',\n",
       " 'check hotel',\n",
       " 'check pm',\n",
       " 'check quick',\n",
       " 'check room',\n",
       " 'check staff',\n",
       " 'check time',\n",
       " 'check told',\n",
       " 'check took',\n",
       " 'check went',\n",
       " 'checkin',\n",
       " 'checkout',\n",
       " 'cheer',\n",
       " 'chees',\n",
       " 'cheesi',\n",
       " 'chef',\n",
       " 'chic',\n",
       " 'chicago',\n",
       " 'chicken',\n",
       " 'child',\n",
       " 'children',\n",
       " 'children age',\n",
       " 'chill',\n",
       " 'chilli',\n",
       " 'china',\n",
       " 'china town',\n",
       " 'chinatown',\n",
       " 'chines',\n",
       " 'chines restaur',\n",
       " 'chip',\n",
       " 'chocol',\n",
       " 'choic',\n",
       " 'choic food',\n",
       " 'choic hotel',\n",
       " 'choic stay',\n",
       " 'choos',\n",
       " 'choos hotel',\n",
       " 'chose',\n",
       " 'chose hotel',\n",
       " 'chosen',\n",
       " 'christma',\n",
       " 'church',\n",
       " 'cigar',\n",
       " 'cigarett',\n",
       " 'cigarett smoke',\n",
       " 'circl',\n",
       " 'circular',\n",
       " 'circular quay',\n",
       " 'citi',\n",
       " 'citi break',\n",
       " 'citi center',\n",
       " 'citi centr',\n",
       " 'citi great',\n",
       " 'citi hotel',\n",
       " 'citi room',\n",
       " 'citi view',\n",
       " 'claim',\n",
       " 'class',\n",
       " 'class hotel',\n",
       " 'classi',\n",
       " 'classic',\n",
       " 'clean',\n",
       " 'clean bathroom',\n",
       " 'clean beach',\n",
       " 'clean beauti',\n",
       " 'clean bed',\n",
       " 'clean bed comfort',\n",
       " 'clean breakfast',\n",
       " 'clean clean',\n",
       " 'clean comfort',\n",
       " 'clean daili',\n",
       " 'clean day',\n",
       " 'clean decor',\n",
       " 'clean did',\n",
       " 'clean food',\n",
       " 'clean fresh',\n",
       " 'clean friendli',\n",
       " 'clean good',\n",
       " 'clean great',\n",
       " 'clean hotel',\n",
       " 'clean kept',\n",
       " 'clean ladi',\n",
       " 'clean larg',\n",
       " 'clean locat',\n",
       " 'clean maintain',\n",
       " 'clean modern',\n",
       " 'clean nice',\n",
       " 'clean pool',\n",
       " 'clean quiet',\n",
       " 'clean room',\n",
       " 'clean safe',\n",
       " 'clean servic',\n",
       " 'clean shower',\n",
       " 'clean small',\n",
       " 'clean spaciou',\n",
       " 'clean staff',\n",
       " 'clean staff friendli',\n",
       " 'clean stay',\n",
       " 'clean tidi',\n",
       " 'clean towel',\n",
       " 'cleaner',\n",
       " 'cleanli',\n",
       " 'clear',\n",
       " 'clearli',\n",
       " 'clerk',\n",
       " 'client',\n",
       " 'clientel',\n",
       " 'cliff',\n",
       " 'climat',\n",
       " 'climb',\n",
       " 'clock',\n",
       " 'close',\n",
       " 'close airport',\n",
       " 'close beach',\n",
       " 'close hotel',\n",
       " 'close main',\n",
       " 'close metro',\n",
       " 'close pm',\n",
       " 'close proxim',\n",
       " 'close shop',\n",
       " 'close train',\n",
       " 'close walk',\n",
       " 'closer',\n",
       " 'closest',\n",
       " 'closet',\n",
       " 'closet space',\n",
       " 'cloth',\n",
       " 'cloud',\n",
       " 'club',\n",
       " 'club level',\n",
       " 'club loung',\n",
       " 'club med',\n",
       " 'club room',\n",
       " 'cnn',\n",
       " 'coach',\n",
       " 'coast',\n",
       " 'coat',\n",
       " 'cockroach',\n",
       " 'cocktail',\n",
       " 'coco',\n",
       " 'coco loco',\n",
       " 'coconut',\n",
       " 'code',\n",
       " 'coffe',\n",
       " 'coffe make',\n",
       " 'coffe make facil',\n",
       " 'coffe maker',\n",
       " 'coffe shop',\n",
       " 'coffe tea',\n",
       " 'coke',\n",
       " 'colada',\n",
       " 'cold',\n",
       " 'cold meat',\n",
       " 'colleagu',\n",
       " 'collect',\n",
       " 'colleg',\n",
       " 'coloni',\n",
       " 'color',\n",
       " 'colour',\n",
       " 'columbu',\n",
       " 'com',\n",
       " 'combin',\n",
       " 'come',\n",
       " 'come home',\n",
       " 'come hotel',\n",
       " 'come room',\n",
       " 'comfi',\n",
       " 'comfi bed',\n",
       " 'comfort',\n",
       " 'comfort bathroom',\n",
       " 'comfort bed',\n",
       " 'comfort clean',\n",
       " 'comfort great',\n",
       " 'comfort hotel',\n",
       " 'comfort nice',\n",
       " 'comfort quiet',\n",
       " 'comfort room',\n",
       " 'comfort staff',\n",
       " ...]"
      ]
     },
     "execution_count": 22,
     "metadata": {},
     "output_type": "execute_result"
    }
   ],
   "source": [
    "count_vector_bow.get_feature_names()"
   ]
  },
  {
   "cell_type": "code",
   "execution_count": 23,
   "metadata": {},
   "outputs": [
    {
     "data": {
      "text/plain": [
       "{'analyzer': 'word',\n",
       " 'binary': False,\n",
       " 'decode_error': 'strict',\n",
       " 'dtype': numpy.int64,\n",
       " 'encoding': 'utf-8',\n",
       " 'input': 'content',\n",
       " 'lowercase': True,\n",
       " 'max_df': 1.0,\n",
       " 'max_features': 6000,\n",
       " 'min_df': 1,\n",
       " 'ngram_range': (1, 4),\n",
       " 'preprocessor': None,\n",
       " 'stop_words': 'english',\n",
       " 'strip_accents': None,\n",
       " 'token_pattern': '(?u)\\\\b\\\\w\\\\w+\\\\b',\n",
       " 'tokenizer': None,\n",
       " 'vocabulary': None}"
      ]
     },
     "execution_count": 23,
     "metadata": {},
     "output_type": "execute_result"
    }
   ],
   "source": [
    "count_vector_bow.get_params()"
   ]
  },
  {
   "cell_type": "code",
   "execution_count": 24,
   "metadata": {},
   "outputs": [],
   "source": [
    "dataframe_count=pd.DataFrame(x_bow,columns=count_vector_bow.get_feature_names())"
   ]
  },
  {
   "cell_type": "code",
   "execution_count": 25,
   "metadata": {},
   "outputs": [
    {
     "data": {
      "text/html": [
       "<div>\n",
       "<style scoped>\n",
       "    .dataframe tbody tr th:only-of-type {\n",
       "        vertical-align: middle;\n",
       "    }\n",
       "\n",
       "    .dataframe tbody tr th {\n",
       "        vertical-align: top;\n",
       "    }\n",
       "\n",
       "    .dataframe thead th {\n",
       "        text-align: right;\n",
       "    }\n",
       "</style>\n",
       "<table border=\"1\" class=\"dataframe\">\n",
       "  <thead>\n",
       "    <tr style=\"text-align: right;\">\n",
       "      <th></th>\n",
       "      <th>aaa</th>\n",
       "      <th>abl</th>\n",
       "      <th>abl check</th>\n",
       "      <th>abl use</th>\n",
       "      <th>abl walk</th>\n",
       "      <th>absolut</th>\n",
       "      <th>absolut beauti</th>\n",
       "      <th>absolut gorgeou</th>\n",
       "      <th>absolut love</th>\n",
       "      <th>absolut wonder</th>\n",
       "      <th>...</th>\n",
       "      <th>young</th>\n",
       "      <th>young children</th>\n",
       "      <th>younger</th>\n",
       "      <th>yr</th>\n",
       "      <th>yr old</th>\n",
       "      <th>yummi</th>\n",
       "      <th>yunqu</th>\n",
       "      <th>zero</th>\n",
       "      <th>zone</th>\n",
       "      <th>zoo</th>\n",
       "    </tr>\n",
       "  </thead>\n",
       "  <tbody>\n",
       "    <tr>\n",
       "      <th>0</th>\n",
       "      <td>0</td>\n",
       "      <td>0</td>\n",
       "      <td>0</td>\n",
       "      <td>0</td>\n",
       "      <td>0</td>\n",
       "      <td>0</td>\n",
       "      <td>0</td>\n",
       "      <td>0</td>\n",
       "      <td>0</td>\n",
       "      <td>0</td>\n",
       "      <td>...</td>\n",
       "      <td>0</td>\n",
       "      <td>0</td>\n",
       "      <td>0</td>\n",
       "      <td>0</td>\n",
       "      <td>0</td>\n",
       "      <td>0</td>\n",
       "      <td>0</td>\n",
       "      <td>0</td>\n",
       "      <td>0</td>\n",
       "      <td>0</td>\n",
       "    </tr>\n",
       "    <tr>\n",
       "      <th>1</th>\n",
       "      <td>0</td>\n",
       "      <td>0</td>\n",
       "      <td>0</td>\n",
       "      <td>0</td>\n",
       "      <td>0</td>\n",
       "      <td>0</td>\n",
       "      <td>0</td>\n",
       "      <td>0</td>\n",
       "      <td>0</td>\n",
       "      <td>0</td>\n",
       "      <td>...</td>\n",
       "      <td>0</td>\n",
       "      <td>0</td>\n",
       "      <td>0</td>\n",
       "      <td>0</td>\n",
       "      <td>0</td>\n",
       "      <td>0</td>\n",
       "      <td>0</td>\n",
       "      <td>0</td>\n",
       "      <td>0</td>\n",
       "      <td>0</td>\n",
       "    </tr>\n",
       "    <tr>\n",
       "      <th>2</th>\n",
       "      <td>0</td>\n",
       "      <td>0</td>\n",
       "      <td>0</td>\n",
       "      <td>0</td>\n",
       "      <td>0</td>\n",
       "      <td>0</td>\n",
       "      <td>0</td>\n",
       "      <td>0</td>\n",
       "      <td>0</td>\n",
       "      <td>0</td>\n",
       "      <td>...</td>\n",
       "      <td>0</td>\n",
       "      <td>0</td>\n",
       "      <td>0</td>\n",
       "      <td>0</td>\n",
       "      <td>0</td>\n",
       "      <td>0</td>\n",
       "      <td>0</td>\n",
       "      <td>0</td>\n",
       "      <td>0</td>\n",
       "      <td>0</td>\n",
       "    </tr>\n",
       "    <tr>\n",
       "      <th>3</th>\n",
       "      <td>0</td>\n",
       "      <td>0</td>\n",
       "      <td>0</td>\n",
       "      <td>0</td>\n",
       "      <td>0</td>\n",
       "      <td>0</td>\n",
       "      <td>0</td>\n",
       "      <td>0</td>\n",
       "      <td>0</td>\n",
       "      <td>0</td>\n",
       "      <td>...</td>\n",
       "      <td>0</td>\n",
       "      <td>0</td>\n",
       "      <td>0</td>\n",
       "      <td>0</td>\n",
       "      <td>0</td>\n",
       "      <td>0</td>\n",
       "      <td>0</td>\n",
       "      <td>0</td>\n",
       "      <td>0</td>\n",
       "      <td>0</td>\n",
       "    </tr>\n",
       "    <tr>\n",
       "      <th>4</th>\n",
       "      <td>0</td>\n",
       "      <td>0</td>\n",
       "      <td>0</td>\n",
       "      <td>0</td>\n",
       "      <td>0</td>\n",
       "      <td>0</td>\n",
       "      <td>0</td>\n",
       "      <td>0</td>\n",
       "      <td>0</td>\n",
       "      <td>0</td>\n",
       "      <td>...</td>\n",
       "      <td>0</td>\n",
       "      <td>0</td>\n",
       "      <td>0</td>\n",
       "      <td>0</td>\n",
       "      <td>0</td>\n",
       "      <td>0</td>\n",
       "      <td>0</td>\n",
       "      <td>0</td>\n",
       "      <td>0</td>\n",
       "      <td>0</td>\n",
       "    </tr>\n",
       "  </tbody>\n",
       "</table>\n",
       "<p>5 rows × 6000 columns</p>\n",
       "</div>"
      ],
      "text/plain": [
       "   aaa  abl  abl check  abl use  abl walk  absolut  absolut beauti  \\\n",
       "0    0    0          0        0         0        0               0   \n",
       "1    0    0          0        0         0        0               0   \n",
       "2    0    0          0        0         0        0               0   \n",
       "3    0    0          0        0         0        0               0   \n",
       "4    0    0          0        0         0        0               0   \n",
       "\n",
       "   absolut gorgeou  absolut love  absolut wonder  ...  young  young children  \\\n",
       "0                0             0               0  ...      0               0   \n",
       "1                0             0               0  ...      0               0   \n",
       "2                0             0               0  ...      0               0   \n",
       "3                0             0               0  ...      0               0   \n",
       "4                0             0               0  ...      0               0   \n",
       "\n",
       "   younger  yr  yr old  yummi  yunqu  zero  zone  zoo  \n",
       "0        0   0       0      0      0     0     0    0  \n",
       "1        0   0       0      0      0     0     0    0  \n",
       "2        0   0       0      0      0     0     0    0  \n",
       "3        0   0       0      0      0     0     0    0  \n",
       "4        0   0       0      0      0     0     0    0  \n",
       "\n",
       "[5 rows x 6000 columns]"
      ]
     },
     "execution_count": 25,
     "metadata": {},
     "output_type": "execute_result"
    }
   ],
   "source": [
    "dataframe_count.head()"
   ]
  },
  {
   "cell_type": "markdown",
   "metadata": {},
   "source": [
    "# Using TFIDF Vectorizer"
   ]
  },
  {
   "cell_type": "code",
   "execution_count": 26,
   "metadata": {},
   "outputs": [],
   "source": [
    "from sklearn.feature_extraction.text import TfidfVectorizer\n",
    "tfidf_vector = TfidfVectorizer(max_features=8000,stop_words='english',ngram_range=(1,4))"
   ]
  },
  {
   "cell_type": "code",
   "execution_count": 27,
   "metadata": {},
   "outputs": [],
   "source": [
    "import pickle\n",
    "x_tfidf = tfidf_vector.fit_transform(data['Tokenized Review'])\n",
    "pickle.dump(tfidf_vector,open(\"transform.pkl\",\"wb\"))"
   ]
  },
  {
   "cell_type": "code",
   "execution_count": 28,
   "metadata": {},
   "outputs": [],
   "source": [
    "y_tfidf=data['Rating']"
   ]
  },
  {
   "cell_type": "code",
   "execution_count": 29,
   "metadata": {},
   "outputs": [
    {
     "data": {
      "text/plain": [
       "0        4\n",
       "1        2\n",
       "2        3\n",
       "3        5\n",
       "4        5\n",
       "        ..\n",
       "20486    5\n",
       "20487    4\n",
       "20488    2\n",
       "20489    1\n",
       "20490    2\n",
       "Name: Rating, Length: 20491, dtype: int64"
      ]
     },
     "execution_count": 29,
     "metadata": {},
     "output_type": "execute_result"
    }
   ],
   "source": [
    "y_tfidf"
   ]
  },
  {
   "cell_type": "code",
   "execution_count": 30,
   "metadata": {},
   "outputs": [],
   "source": [
    "from sklearn.model_selection import train_test_split\n",
    "xtrain_tfidf,xtest_tfidf,ytrain_tfidf,ytest_tfidf = train_test_split(x_tfidf,y_tfidf,test_size=0.3,random_state=3)"
   ]
  },
  {
   "cell_type": "code",
   "execution_count": 31,
   "metadata": {},
   "outputs": [
    {
     "data": {
      "text/plain": [
       "<14343x8000 sparse matrix of type '<class 'numpy.float64'>'\n",
       "\twith 1326229 stored elements in Compressed Sparse Row format>"
      ]
     },
     "execution_count": 31,
     "metadata": {},
     "output_type": "execute_result"
    }
   ],
   "source": [
    "xtrain_tfidf"
   ]
  },
  {
   "cell_type": "code",
   "execution_count": 32,
   "metadata": {},
   "outputs": [
    {
     "data": {
      "text/plain": [
       "(14343, 8000)"
      ]
     },
     "execution_count": 32,
     "metadata": {},
     "output_type": "execute_result"
    }
   ],
   "source": [
    "xtrain_tfidf.shape"
   ]
  },
  {
   "cell_type": "code",
   "execution_count": 33,
   "metadata": {},
   "outputs": [
    {
     "data": {
      "text/plain": [
       "(14343,)"
      ]
     },
     "execution_count": 33,
     "metadata": {},
     "output_type": "execute_result"
    }
   ],
   "source": [
    "ytrain_tfidf.shape"
   ]
  },
  {
   "cell_type": "markdown",
   "metadata": {},
   "source": [
    "# DATA VISUALIZATION"
   ]
  },
  {
   "cell_type": "markdown",
   "metadata": {},
   "source": [
    "# Plotting Bar Plot for positive words"
   ]
  },
  {
   "cell_type": "code",
   "execution_count": 34,
   "metadata": {},
   "outputs": [
    {
     "data": {
      "text/plain": [
       "5    9054\n",
       "4    6039\n",
       "3    2184\n",
       "2    1793\n",
       "1    1421\n",
       "Name: Rating, dtype: int64"
      ]
     },
     "execution_count": 34,
     "metadata": {},
     "output_type": "execute_result"
    }
   ],
   "source": [
    "data.Rating.value_counts()"
   ]
  },
  {
   "cell_type": "code",
   "execution_count": 35,
   "metadata": {},
   "outputs": [
    {
     "data": {
      "text/plain": [
       "<matplotlib.axes._subplots.AxesSubplot at 0x2e534b374c8>"
      ]
     },
     "execution_count": 35,
     "metadata": {},
     "output_type": "execute_result"
    },
    {
     "data": {
      "image/png": "[encoded data removed]",
      "text/plain": [
       "<Figure size 432x288 with 1 Axes>"
      ]
     },
     "metadata": {
      "needs_background": "light"
     },
     "output_type": "display_data"
    }
   ],
   "source": [
    "sns.countplot(data=data,x='Rating', palette=\"Set3\")"
   ]
  },
  {
   "cell_type": "code",
   "execution_count": 36,
   "metadata": {},
   "outputs": [
    {
     "data": {
      "image/png": "[encoded data removed]",
      "text/plain": [
       "<Figure size 720x720 with 1 Axes>"
      ]
     },
     "metadata": {
      "needs_background": "light"
     },
     "output_type": "display_data"
    }
   ],
   "source": [
    "from wordcloud import WordCloud\n",
    "def wordCloud_generator(data):\n",
    "    wordcloud = WordCloud(width = 800, height = 800,\n",
    "                          background_color ='black',\n",
    "                          min_font_size = 10,\n",
    "                          colormap='Pastel1'\n",
    "                         ).generate(\" \".join(data.values))\n",
    "    # plot the WordCloud image                        \n",
    "    plt.figure(figsize = (10, 10), facecolor = None) \n",
    "    plt.imshow(wordcloud, interpolation='bilinear') \n",
    "    plt.axis(\"off\") \n",
    "    plt.tight_layout(pad = 0) \n",
    "    plt.title(\"Most common words in Reviews\",fontsize=30)\n",
    "    plt.show() \n",
    "    \n",
    "wordCloud_generator(data['Review'])"
   ]
  },
  {
   "cell_type": "markdown",
   "metadata": {},
   "source": [
    "# BUILDING MODEL"
   ]
  },
  {
   "cell_type": "markdown",
   "metadata": {},
   "source": [
    "# NAIVE BAYES"
   ]
  },
  {
   "cell_type": "markdown",
   "metadata": {},
   "source": [
    "# By using Count Vectorizer"
   ]
  },
  {
   "cell_type": "code",
   "execution_count": 37,
   "metadata": {},
   "outputs": [],
   "source": [
    "from sklearn.naive_bayes import GaussianNB\n",
    "nb = GaussianNB()"
   ]
  },
  {
   "cell_type": "code",
   "execution_count": 38,
   "metadata": {},
   "outputs": [
    {
     "data": {
      "text/plain": [
       "GaussianNB(priors=None, var_smoothing=1e-09)"
      ]
     },
     "execution_count": 38,
     "metadata": {},
     "output_type": "execute_result"
    }
   ],
   "source": [
    "nb.fit(x_train_bow,y_train_bow)"
   ]
  },
  {
   "cell_type": "code",
   "execution_count": 39,
   "metadata": {},
   "outputs": [],
   "source": [
    "y_test_pred_bow = nb.predict(x_test_bow)"
   ]
  },
  {
   "cell_type": "code",
   "execution_count": 40,
   "metadata": {},
   "outputs": [
    {
     "data": {
      "text/plain": [
       "40.92387768379961"
      ]
     },
     "execution_count": 40,
     "metadata": {},
     "output_type": "execute_result"
    }
   ],
   "source": [
    "from sklearn.metrics import accuracy_score,confusion_matrix,classification_report\n",
    "nb_bow_accuracy = accuracy_score(y_test_bow,y_test_pred_bow)\n",
    "nb_bow_accuracy*100"
   ]
  },
  {
   "cell_type": "code",
   "execution_count": 41,
   "metadata": {},
   "outputs": [
    {
     "name": "stdout",
     "output_type": "stream",
     "text": [
      "[[ 248  134   33   11    5]\n",
      " [ 206  230   90   40   11]\n",
      " [ 126  222  163   96   42]\n",
      " [ 179  391  274  421  502]\n",
      " [ 279  432  161  398 1454]]\n"
     ]
    }
   ],
   "source": [
    "print(confusion_matrix(y_test_bow,y_test_pred_bow))"
   ]
  },
  {
   "cell_type": "code",
   "execution_count": 42,
   "metadata": {},
   "outputs": [
    {
     "name": "stdout",
     "output_type": "stream",
     "text": [
      "              precision    recall  f1-score   support\n",
      "\n",
      "           1       0.24      0.58      0.34       431\n",
      "           2       0.16      0.40      0.23       577\n",
      "           3       0.23      0.25      0.24       649\n",
      "           4       0.44      0.24      0.31      1767\n",
      "           5       0.72      0.53      0.61      2724\n",
      "\n",
      "    accuracy                           0.41      6148\n",
      "   macro avg       0.36      0.40      0.35      6148\n",
      "weighted avg       0.50      0.41      0.43      6148\n",
      "\n"
     ]
    }
   ],
   "source": [
    "print(classification_report(y_test_bow,y_test_pred_bow))"
   ]
  },
  {
   "cell_type": "markdown",
   "metadata": {},
   "source": [
    "# Using Decision Tree"
   ]
  },
  {
   "cell_type": "markdown",
   "metadata": {},
   "source": [
    "# By Using CountVectorizer"
   ]
  },
  {
   "cell_type": "code",
   "execution_count": 45,
   "metadata": {},
   "outputs": [],
   "source": [
    "from sklearn.tree import DecisionTreeClassifier\n",
    "dtc = DecisionTreeClassifier()"
   ]
  },
  {
   "cell_type": "code",
   "execution_count": 46,
   "metadata": {},
   "outputs": [
    {
     "data": {
      "text/plain": [
       "DecisionTreeClassifier(ccp_alpha=0.0, class_weight=None, criterion='gini',\n",
       "                       max_depth=None, max_features=None, max_leaf_nodes=None,\n",
       "                       min_impurity_decrease=0.0, min_impurity_split=None,\n",
       "                       min_samples_leaf=1, min_samples_split=2,\n",
       "                       min_weight_fraction_leaf=0.0, presort='deprecated',\n",
       "                       random_state=None, splitter='best')"
      ]
     },
     "execution_count": 46,
     "metadata": {},
     "output_type": "execute_result"
    }
   ],
   "source": [
    "dtc.fit(x_train_bow,y_train_bow)"
   ]
  },
  {
   "cell_type": "code",
   "execution_count": 47,
   "metadata": {},
   "outputs": [],
   "source": [
    "y_test_pred_bow = dtc.predict(x_test_bow)"
   ]
  },
  {
   "cell_type": "code",
   "execution_count": 48,
   "metadata": {},
   "outputs": [
    {
     "data": {
      "text/plain": [
       "44.355888093689"
      ]
     },
     "execution_count": 48,
     "metadata": {},
     "output_type": "execute_result"
    }
   ],
   "source": [
    "from sklearn.metrics import accuracy_score,confusion_matrix,classification_report\n",
    "dtc_bow_accuracy = accuracy_score(y_test_bow,y_test_pred_bow)\n",
    "dtc_bow_accuracy*100"
   ]
  },
  {
   "cell_type": "code",
   "execution_count": 49,
   "metadata": {},
   "outputs": [
    {
     "name": "stdout",
     "output_type": "stream",
     "text": [
      "[[ 157   87   59   71   57]\n",
      " [  94  126   94  135  128]\n",
      " [  50   79  125  214  181]\n",
      " [  42   96  199  669  761]\n",
      " [  44   89  139  802 1650]]\n"
     ]
    }
   ],
   "source": [
    "print(confusion_matrix(y_test_bow,y_test_pred_bow))"
   ]
  },
  {
   "cell_type": "code",
   "execution_count": 50,
   "metadata": {},
   "outputs": [
    {
     "name": "stdout",
     "output_type": "stream",
     "text": [
      "              precision    recall  f1-score   support\n",
      "\n",
      "           1       0.41      0.36      0.38       431\n",
      "           2       0.26      0.22      0.24       577\n",
      "           3       0.20      0.19      0.20       649\n",
      "           4       0.35      0.38      0.37      1767\n",
      "           5       0.59      0.61      0.60      2724\n",
      "\n",
      "    accuracy                           0.44      6148\n",
      "   macro avg       0.36      0.35      0.36      6148\n",
      "weighted avg       0.44      0.44      0.44      6148\n",
      "\n"
     ]
    }
   ],
   "source": [
    "print(classification_report(y_test_bow,y_test_pred_bow))"
   ]
  },
  {
   "cell_type": "markdown",
   "metadata": {},
   "source": [
    "# Using TFIDF Vectorizer"
   ]
  },
  {
   "cell_type": "code",
   "execution_count": 51,
   "metadata": {},
   "outputs": [],
   "source": [
    "from sklearn.tree import DecisionTreeClassifier\n",
    "dtc = DecisionTreeClassifier()"
   ]
  },
  {
   "cell_type": "code",
   "execution_count": 52,
   "metadata": {},
   "outputs": [
    {
     "data": {
      "text/plain": [
       "DecisionTreeClassifier(ccp_alpha=0.0, class_weight=None, criterion='gini',\n",
       "                       max_depth=None, max_features=None, max_leaf_nodes=None,\n",
       "                       min_impurity_decrease=0.0, min_impurity_split=None,\n",
       "                       min_samples_leaf=1, min_samples_split=2,\n",
       "                       min_weight_fraction_leaf=0.0, presort='deprecated',\n",
       "                       random_state=None, splitter='best')"
      ]
     },
     "execution_count": 52,
     "metadata": {},
     "output_type": "execute_result"
    }
   ],
   "source": [
    "dtc.fit(xtrain_tfidf,ytrain_tfidf)"
   ]
  },
  {
   "cell_type": "code",
   "execution_count": 53,
   "metadata": {},
   "outputs": [],
   "source": [
    "y_test_pred_tfidf = dtc.predict(xtest_tfidf)"
   ]
  },
  {
   "cell_type": "code",
   "execution_count": 54,
   "metadata": {},
   "outputs": [
    {
     "data": {
      "text/plain": [
       "44.957709824333115"
      ]
     },
     "execution_count": 54,
     "metadata": {},
     "output_type": "execute_result"
    }
   ],
   "source": [
    "from sklearn.metrics import accuracy_score,confusion_matrix,classification_report\n",
    "dtc_tfidf_accuracy = accuracy_score(ytest_tfidf,y_test_pred_tfidf)\n",
    "dtc_tfidf_accuracy*100"
   ]
  },
  {
   "cell_type": "code",
   "execution_count": 55,
   "metadata": {},
   "outputs": [
    {
     "name": "stdout",
     "output_type": "stream",
     "text": [
      "[[ 175   83   54   64   58]\n",
      " [  92  107   89  124  129]\n",
      " [  44   86  121  222  183]\n",
      " [  51  106  192  701  765]\n",
      " [  44  101  137  760 1660]]\n"
     ]
    }
   ],
   "source": [
    "print(confusion_matrix(ytest_tfidf,y_test_pred_tfidf))"
   ]
  },
  {
   "cell_type": "code",
   "execution_count": 56,
   "metadata": {},
   "outputs": [
    {
     "name": "stdout",
     "output_type": "stream",
     "text": [
      "              precision    recall  f1-score   support\n",
      "\n",
      "           1       0.43      0.40      0.42       434\n",
      "           2       0.22      0.20      0.21       541\n",
      "           3       0.20      0.18      0.19       656\n",
      "           4       0.37      0.39      0.38      1815\n",
      "           5       0.59      0.61      0.60      2702\n",
      "\n",
      "    accuracy                           0.45      6148\n",
      "   macro avg       0.37      0.36      0.36      6148\n",
      "weighted avg       0.44      0.45      0.45      6148\n",
      "\n"
     ]
    }
   ],
   "source": [
    "print(classification_report(ytest_tfidf,y_test_pred_tfidf))"
   ]
  },
  {
   "cell_type": "markdown",
   "metadata": {},
   "source": [
    "# USING LOGISTIC REGRESSION"
   ]
  },
  {
   "cell_type": "code",
   "execution_count": 57,
   "metadata": {},
   "outputs": [],
   "source": [
    "from sklearn.linear_model import LogisticRegression"
   ]
  },
  {
   "cell_type": "code",
   "execution_count": 58,
   "metadata": {},
   "outputs": [],
   "source": [
    "lr = LogisticRegression(random_state=12)"
   ]
  },
  {
   "cell_type": "code",
   "execution_count": 59,
   "metadata": {},
   "outputs": [
    {
     "name": "stderr",
     "output_type": "stream",
     "text": [
      "C:\\Users\\user\\anaconda3\\lib\\site-packages\\sklearn\\linear_model\\_logistic.py:940: ConvergenceWarning: lbfgs failed to converge (status=1):\n",
      "STOP: TOTAL NO. of ITERATIONS REACHED LIMIT.\n",
      "\n",
      "Increase the number of iterations (max_iter) or scale the data as shown in:\n",
      "    https://scikit-learn.org/stable/modules/preprocessing.html\n",
      "Please also refer to the documentation for alternative solver options:\n",
      "    https://scikit-learn.org/stable/modules/linear_model.html#logistic-regression\n",
      "  extra_warning_msg=_LOGISTIC_SOLVER_CONVERGENCE_MSG)\n"
     ]
    },
    {
     "data": {
      "text/plain": [
       "LogisticRegression(C=1.0, class_weight=None, dual=False, fit_intercept=True,\n",
       "                   intercept_scaling=1, l1_ratio=None, max_iter=100,\n",
       "                   multi_class='auto', n_jobs=None, penalty='l2',\n",
       "                   random_state=12, solver='lbfgs', tol=0.0001, verbose=0,\n",
       "                   warm_start=False)"
      ]
     },
     "execution_count": 59,
     "metadata": {},
     "output_type": "execute_result"
    }
   ],
   "source": [
    "lr.fit(x_train_bow,y_train_bow)"
   ]
  },
  {
   "cell_type": "code",
   "execution_count": 60,
   "metadata": {},
   "outputs": [],
   "source": [
    "ytest_lr_bow_pred = lr.predict(x_test_bow)"
   ]
  },
  {
   "cell_type": "code",
   "execution_count": 61,
   "metadata": {},
   "outputs": [],
   "source": [
    "from sklearn import metrics"
   ]
  },
  {
   "cell_type": "code",
   "execution_count": 62,
   "metadata": {},
   "outputs": [],
   "source": [
    "lr_bow_score = metrics.accuracy_score(y_test_bow,ytest_lr_bow_pred)"
   ]
  },
  {
   "cell_type": "code",
   "execution_count": 63,
   "metadata": {},
   "outputs": [
    {
     "data": {
      "text/plain": [
       "56.6363044892648"
      ]
     },
     "execution_count": 63,
     "metadata": {},
     "output_type": "execute_result"
    }
   ],
   "source": [
    "lr_bow_score*100"
   ]
  },
  {
   "cell_type": "code",
   "execution_count": 64,
   "metadata": {},
   "outputs": [
    {
     "name": "stdout",
     "output_type": "stream",
     "text": [
      "[[ 264  125   21   13    8]\n",
      " [ 126  207  140   72   32]\n",
      " [  29  114  210  219   77]\n",
      " [  13   57  177  846  674]\n",
      " [   9   20   51  689 1955]]\n"
     ]
    }
   ],
   "source": [
    "print(confusion_matrix(y_test_bow,ytest_lr_bow_pred))"
   ]
  },
  {
   "cell_type": "code",
   "execution_count": 65,
   "metadata": {},
   "outputs": [
    {
     "name": "stdout",
     "output_type": "stream",
     "text": [
      "              precision    recall  f1-score   support\n",
      "\n",
      "           1       0.60      0.61      0.61       431\n",
      "           2       0.40      0.36      0.38       577\n",
      "           3       0.35      0.32      0.34       649\n",
      "           4       0.46      0.48      0.47      1767\n",
      "           5       0.71      0.72      0.71      2724\n",
      "\n",
      "    accuracy                           0.57      6148\n",
      "   macro avg       0.50      0.50      0.50      6148\n",
      "weighted avg       0.56      0.57      0.56      6148\n",
      "\n"
     ]
    }
   ],
   "source": [
    "print(classification_report(y_test_bow,ytest_lr_bow_pred))"
   ]
  },
  {
   "cell_type": "markdown",
   "metadata": {},
   "source": [
    "# USING TF-IDF VECTORIZER"
   ]
  },
  {
   "cell_type": "code",
   "execution_count": 66,
   "metadata": {},
   "outputs": [
    {
     "name": "stderr",
     "output_type": "stream",
     "text": [
      "C:\\Users\\user\\anaconda3\\lib\\site-packages\\sklearn\\linear_model\\_logistic.py:940: ConvergenceWarning: lbfgs failed to converge (status=1):\n",
      "STOP: TOTAL NO. of ITERATIONS REACHED LIMIT.\n",
      "\n",
      "Increase the number of iterations (max_iter) or scale the data as shown in:\n",
      "    https://scikit-learn.org/stable/modules/preprocessing.html\n",
      "Please also refer to the documentation for alternative solver options:\n",
      "    https://scikit-learn.org/stable/modules/linear_model.html#logistic-regression\n",
      "  extra_warning_msg=_LOGISTIC_SOLVER_CONVERGENCE_MSG)\n"
     ]
    },
    {
     "data": {
      "text/plain": [
       "LogisticRegression(C=1.0, class_weight=None, dual=False, fit_intercept=True,\n",
       "                   intercept_scaling=1, l1_ratio=None, max_iter=100,\n",
       "                   multi_class='auto', n_jobs=None, penalty='l2',\n",
       "                   random_state=12, solver='lbfgs', tol=0.0001, verbose=0,\n",
       "                   warm_start=False)"
      ]
     },
     "execution_count": 66,
     "metadata": {},
     "output_type": "execute_result"
    }
   ],
   "source": [
    "lr.fit(xtrain_tfidf,ytrain_tfidf)"
   ]
  },
  {
   "cell_type": "code",
   "execution_count": 67,
   "metadata": {},
   "outputs": [],
   "source": [
    "ytest_lr_tfidf_pred = lr.predict(xtest_tfidf)"
   ]
  },
  {
   "cell_type": "code",
   "execution_count": 68,
   "metadata": {},
   "outputs": [],
   "source": [
    "from sklearn import metrics"
   ]
  },
  {
   "cell_type": "code",
   "execution_count": 69,
   "metadata": {},
   "outputs": [],
   "source": [
    "lr_tfidf_score = metrics.accuracy_score(ytest_tfidf,ytest_lr_tfidf_pred)"
   ]
  },
  {
   "cell_type": "code",
   "execution_count": 70,
   "metadata": {},
   "outputs": [
    {
     "data": {
      "text/plain": [
       "62.06896551724138"
      ]
     },
     "execution_count": 70,
     "metadata": {},
     "output_type": "execute_result"
    }
   ],
   "source": [
    "lr_tfidf_score*100"
   ]
  },
  {
   "cell_type": "code",
   "execution_count": 71,
   "metadata": {},
   "outputs": [
    {
     "name": "stdout",
     "output_type": "stream",
     "text": [
      "[[ 272  106   13   16   27]\n",
      " [  95  189  104   99   54]\n",
      " [  13   76  167  303   97]\n",
      " [   8   24   68  965  750]\n",
      " [   2    3    9  465 2223]]\n"
     ]
    }
   ],
   "source": [
    "print(confusion_matrix(ytest_tfidf,ytest_lr_tfidf_pred))"
   ]
  },
  {
   "cell_type": "code",
   "execution_count": 72,
   "metadata": {},
   "outputs": [
    {
     "name": "stdout",
     "output_type": "stream",
     "text": [
      "              precision    recall  f1-score   support\n",
      "\n",
      "           1       0.70      0.63      0.66       434\n",
      "           2       0.47      0.35      0.40       541\n",
      "           3       0.46      0.25      0.33       656\n",
      "           4       0.52      0.53      0.53      1815\n",
      "           5       0.71      0.82      0.76      2702\n",
      "\n",
      "    accuracy                           0.62      6148\n",
      "   macro avg       0.57      0.52      0.54      6148\n",
      "weighted avg       0.60      0.62      0.61      6148\n",
      "\n"
     ]
    }
   ],
   "source": [
    "print(classification_report(ytest_tfidf,ytest_lr_tfidf_pred))"
   ]
  },
  {
   "cell_type": "markdown",
   "metadata": {},
   "source": [
    "# USING SVM "
   ]
  },
  {
   "cell_type": "markdown",
   "metadata": {},
   "source": [
    "# USING COUNT VECTORIZER"
   ]
  },
  {
   "cell_type": "code",
   "execution_count": 73,
   "metadata": {},
   "outputs": [],
   "source": [
    "from sklearn import svm\n",
    "from sklearn.svm import SVC"
   ]
  },
  {
   "cell_type": "code",
   "execution_count": 74,
   "metadata": {},
   "outputs": [],
   "source": [
    "model = svm.SVC(C=2, gamma='scale', kernel='linear')\n",
    "model.fit(x_train_bow, y_train_bow)\n",
    "prediction = model.predict(x_test_bow)"
   ]
  },
  {
   "cell_type": "code",
   "execution_count": 75,
   "metadata": {},
   "outputs": [
    {
     "data": {
      "text/plain": [
       "53.23682498373454"
      ]
     },
     "execution_count": 75,
     "metadata": {},
     "output_type": "execute_result"
    }
   ],
   "source": [
    "from sklearn import metrics\n",
    "svm_bow_score = metrics.accuracy_score(y_test_bow,prediction)\n",
    "svm_bow_score*100"
   ]
  },
  {
   "cell_type": "code",
   "execution_count": 76,
   "metadata": {},
   "outputs": [
    {
     "name": "stdout",
     "output_type": "stream",
     "text": [
      "[[ 270  127   21    7    6]\n",
      " [ 149  207  135   61   25]\n",
      " [  39  139  225  189   57]\n",
      " [  17   82  270  766  632]\n",
      " [  16   26  116  761 1805]]\n"
     ]
    }
   ],
   "source": [
    "print(confusion_matrix(y_test_bow,prediction))"
   ]
  },
  {
   "cell_type": "code",
   "execution_count": 77,
   "metadata": {},
   "outputs": [
    {
     "name": "stdout",
     "output_type": "stream",
     "text": [
      "              precision    recall  f1-score   support\n",
      "\n",
      "           1       0.55      0.63      0.59       431\n",
      "           2       0.36      0.36      0.36       577\n",
      "           3       0.29      0.35      0.32       649\n",
      "           4       0.43      0.43      0.43      1767\n",
      "           5       0.71      0.66      0.69      2724\n",
      "\n",
      "    accuracy                           0.53      6148\n",
      "   macro avg       0.47      0.49      0.48      6148\n",
      "weighted avg       0.54      0.53      0.54      6148\n",
      "\n"
     ]
    }
   ],
   "source": [
    "print(classification_report( y_test_bow,prediction))"
   ]
  },
  {
   "cell_type": "markdown",
   "metadata": {},
   "source": [
    "# USING TFIDF VECTORIZER"
   ]
  },
  {
   "cell_type": "code",
   "execution_count": 78,
   "metadata": {},
   "outputs": [],
   "source": [
    "from sklearn import svm\n",
    "from sklearn.svm import SVC"
   ]
  },
  {
   "cell_type": "code",
   "execution_count": 79,
   "metadata": {},
   "outputs": [],
   "source": [
    "model = svm.SVC(C=2, gamma='scale', kernel='linear')\n",
    "model.fit(xtrain_tfidf, ytrain_tfidf)\n",
    "prediction = model.predict(xtest_tfidf)"
   ]
  },
  {
   "cell_type": "code",
   "execution_count": 80,
   "metadata": {},
   "outputs": [
    {
     "data": {
      "text/plain": [
       "61.044242029928434"
      ]
     },
     "execution_count": 80,
     "metadata": {},
     "output_type": "execute_result"
    }
   ],
   "source": [
    "from sklearn import metrics\n",
    "svm_tfidf_score = metrics.accuracy_score(ytest_tfidf,prediction)\n",
    "svm_tfidf_score*100"
   ]
  },
  {
   "cell_type": "code",
   "execution_count": 81,
   "metadata": {},
   "outputs": [
    {
     "name": "stdout",
     "output_type": "stream",
     "text": [
      "[[ 283  113   19    7   12]\n",
      " [ 120  229  113   57   22]\n",
      " [  26  130  214  235   51]\n",
      " [  14   61  149  937  654]\n",
      " [   6   15   33  558 2090]]\n"
     ]
    }
   ],
   "source": [
    "print(confusion_matrix(ytest_tfidf,prediction))"
   ]
  },
  {
   "cell_type": "code",
   "execution_count": 82,
   "metadata": {},
   "outputs": [
    {
     "name": "stdout",
     "output_type": "stream",
     "text": [
      "              precision    recall  f1-score   support\n",
      "\n",
      "           1       0.63      0.65      0.64       434\n",
      "           2       0.42      0.42      0.42       541\n",
      "           3       0.41      0.33      0.36       656\n",
      "           4       0.52      0.52      0.52      1815\n",
      "           5       0.74      0.77      0.76      2702\n",
      "\n",
      "    accuracy                           0.61      6148\n",
      "   macro avg       0.54      0.54      0.54      6148\n",
      "weighted avg       0.60      0.61      0.61      6148\n",
      "\n"
     ]
    }
   ],
   "source": [
    "print(classification_report( ytest_tfidf,prediction))"
   ]
  },
  {
   "cell_type": "markdown",
   "metadata": {},
   "source": [
    "# USING RANDOM FOREST"
   ]
  },
  {
   "cell_type": "markdown",
   "metadata": {},
   "source": [
    "# using count vectorizer"
   ]
  },
  {
   "cell_type": "code",
   "execution_count": 83,
   "metadata": {},
   "outputs": [],
   "source": [
    "from sklearn.ensemble import RandomForestClassifier"
   ]
  },
  {
   "cell_type": "code",
   "execution_count": 84,
   "metadata": {},
   "outputs": [],
   "source": [
    "rmodel=RandomForestClassifier(n_estimators=100)"
   ]
  },
  {
   "cell_type": "code",
   "execution_count": 85,
   "metadata": {},
   "outputs": [
    {
     "data": {
      "text/plain": [
       "RandomForestClassifier(bootstrap=True, ccp_alpha=0.0, class_weight=None,\n",
       "                       criterion='gini', max_depth=None, max_features='auto',\n",
       "                       max_leaf_nodes=None, max_samples=None,\n",
       "                       min_impurity_decrease=0.0, min_impurity_split=None,\n",
       "                       min_samples_leaf=1, min_samples_split=2,\n",
       "                       min_weight_fraction_leaf=0.0, n_estimators=100,\n",
       "                       n_jobs=None, oob_score=False, random_state=None,\n",
       "                       verbose=0, warm_start=False)"
      ]
     },
     "execution_count": 85,
     "metadata": {},
     "output_type": "execute_result"
    }
   ],
   "source": [
    "rmodel.fit(x_train_bow,y_train_bow)"
   ]
  },
  {
   "cell_type": "code",
   "execution_count": 86,
   "metadata": {},
   "outputs": [],
   "source": [
    "ytest_random_bow_pred=rmodel.predict(x_test_bow)"
   ]
  },
  {
   "cell_type": "code",
   "execution_count": 87,
   "metadata": {},
   "outputs": [],
   "source": [
    "from sklearn import metrics"
   ]
  },
  {
   "cell_type": "code",
   "execution_count": 88,
   "metadata": {},
   "outputs": [],
   "source": [
    "random_bow_score=metrics.accuracy_score(y_test_bow,ytest_random_bow_pred)"
   ]
  },
  {
   "cell_type": "code",
   "execution_count": 89,
   "metadata": {},
   "outputs": [
    {
     "name": "stdout",
     "output_type": "stream",
     "text": [
      "54.472999349381915\n"
     ]
    }
   ],
   "source": [
    "print(random_bow_score*100)"
   ]
  },
  {
   "cell_type": "code",
   "execution_count": 90,
   "metadata": {},
   "outputs": [
    {
     "name": "stdout",
     "output_type": "stream",
     "text": [
      "[[ 215   23   10   76  107]\n",
      " [  98   28   24  239  188]\n",
      " [  23    5   23  369  229]\n",
      " [   4    2    3  697 1061]\n",
      " [   2    0    0  336 2386]]\n"
     ]
    }
   ],
   "source": [
    "print(confusion_matrix(y_test_bow,ytest_random_bow_pred))"
   ]
  },
  {
   "cell_type": "code",
   "execution_count": 91,
   "metadata": {},
   "outputs": [
    {
     "name": "stdout",
     "output_type": "stream",
     "text": [
      "              precision    recall  f1-score   support\n",
      "\n",
      "           1       0.63      0.50      0.56       431\n",
      "           2       0.48      0.05      0.09       577\n",
      "           3       0.38      0.04      0.06       649\n",
      "           4       0.41      0.39      0.40      1767\n",
      "           5       0.60      0.88      0.71      2724\n",
      "\n",
      "    accuracy                           0.54      6148\n",
      "   macro avg       0.50      0.37      0.36      6148\n",
      "weighted avg       0.51      0.54      0.48      6148\n",
      "\n"
     ]
    }
   ],
   "source": [
    "print(classification_report(y_test_bow,ytest_random_bow_pred))"
   ]
  },
  {
   "cell_type": "markdown",
   "metadata": {},
   "source": [
    "# using tfidf vectorizer"
   ]
  },
  {
   "cell_type": "code",
   "execution_count": 92,
   "metadata": {},
   "outputs": [],
   "source": [
    "rmodel=RandomForestClassifier(n_estimators=100)"
   ]
  },
  {
   "cell_type": "code",
   "execution_count": 93,
   "metadata": {},
   "outputs": [
    {
     "data": {
      "text/plain": [
       "RandomForestClassifier(bootstrap=True, ccp_alpha=0.0, class_weight=None,\n",
       "                       criterion='gini', max_depth=None, max_features='auto',\n",
       "                       max_leaf_nodes=None, max_samples=None,\n",
       "                       min_impurity_decrease=0.0, min_impurity_split=None,\n",
       "                       min_samples_leaf=1, min_samples_split=2,\n",
       "                       min_weight_fraction_leaf=0.0, n_estimators=100,\n",
       "                       n_jobs=None, oob_score=False, random_state=None,\n",
       "                       verbose=0, warm_start=False)"
      ]
     },
     "execution_count": 93,
     "metadata": {},
     "output_type": "execute_result"
    }
   ],
   "source": [
    "rmodel.fit(xtrain_tfidf,ytrain_tfidf)"
   ]
  },
  {
   "cell_type": "code",
   "execution_count": 94,
   "metadata": {},
   "outputs": [],
   "source": [
    "ytest_random_tdif_pred=rmodel.predict(xtest_tfidf)"
   ]
  },
  {
   "cell_type": "code",
   "execution_count": 95,
   "metadata": {},
   "outputs": [],
   "source": [
    "from sklearn import metrics"
   ]
  },
  {
   "cell_type": "code",
   "execution_count": 96,
   "metadata": {},
   "outputs": [],
   "source": [
    "random_tdif_score=metrics.accuracy_score(ytest_tfidf,ytest_random_tdif_pred)"
   ]
  },
  {
   "cell_type": "code",
   "execution_count": 97,
   "metadata": {},
   "outputs": [
    {
     "name": "stdout",
     "output_type": "stream",
     "text": [
      "55.36759921925829\n"
     ]
    }
   ],
   "source": [
    "print(random_tdif_score*100)"
   ]
  },
  {
   "cell_type": "code",
   "execution_count": 98,
   "metadata": {},
   "outputs": [
    {
     "name": "stdout",
     "output_type": "stream",
     "text": [
      "[[ 208   25    4   62  135]\n",
      " [  71   31   13  212  214]\n",
      " [   8   10   25  384  229]\n",
      " [   1    5    1  679 1129]\n",
      " [   0    0    0  241 2461]]\n"
     ]
    }
   ],
   "source": [
    "print(confusion_matrix(ytest_tfidf,ytest_random_tdif_pred))"
   ]
  },
  {
   "cell_type": "code",
   "execution_count": 99,
   "metadata": {},
   "outputs": [
    {
     "name": "stdout",
     "output_type": "stream",
     "text": [
      "              precision    recall  f1-score   support\n",
      "\n",
      "           1       0.63      0.50      0.56       431\n",
      "           2       0.48      0.05      0.09       577\n",
      "           3       0.38      0.04      0.06       649\n",
      "           4       0.41      0.39      0.40      1767\n",
      "           5       0.60      0.88      0.71      2724\n",
      "\n",
      "    accuracy                           0.54      6148\n",
      "   macro avg       0.50      0.37      0.36      6148\n",
      "weighted avg       0.51      0.54      0.48      6148\n",
      "\n"
     ]
    }
   ],
   "source": [
    "print(classification_report(y_test_bow,ytest_random_bow_pred))"
   ]
  },
  {
   "cell_type": "code",
   "execution_count": 100,
   "metadata": {},
   "outputs": [],
   "source": [
    "model_compare = pd.DataFrame({\"Naive Bayes\":nb_bow_accuracy,\n",
    "                            \"Logistic Regression\":lr_bow_score,\n",
    "                           \"Decision Tree\":dtc_bow_accuracy,\n",
    "                              \"Random Forest\":random_bow_score,\n",
    "                              \"SVM\":svm_bow_score,\n",
    "                            },index=[\"accuracy\"])"
   ]
  },
  {
   "cell_type": "code",
   "execution_count": 101,
   "metadata": {},
   "outputs": [
    {
     "data": {
      "text/html": [
       "<div>\n",
       "<style scoped>\n",
       "    .dataframe tbody tr th:only-of-type {\n",
       "        vertical-align: middle;\n",
       "    }\n",
       "\n",
       "    .dataframe tbody tr th {\n",
       "        vertical-align: top;\n",
       "    }\n",
       "\n",
       "    .dataframe thead th {\n",
       "        text-align: right;\n",
       "    }\n",
       "</style>\n",
       "<table border=\"1\" class=\"dataframe\">\n",
       "  <thead>\n",
       "    <tr style=\"text-align: right;\">\n",
       "      <th></th>\n",
       "      <th>Naive Bayes</th>\n",
       "      <th>Logistic Regression</th>\n",
       "      <th>Decision Tree</th>\n",
       "      <th>Random Forest</th>\n",
       "      <th>SVM</th>\n",
       "    </tr>\n",
       "  </thead>\n",
       "  <tbody>\n",
       "    <tr>\n",
       "      <th>accuracy</th>\n",
       "      <td>0.409239</td>\n",
       "      <td>0.566363</td>\n",
       "      <td>0.443559</td>\n",
       "      <td>0.54473</td>\n",
       "      <td>0.532368</td>\n",
       "    </tr>\n",
       "  </tbody>\n",
       "</table>\n",
       "</div>"
      ],
      "text/plain": [
       "          Naive Bayes  Logistic Regression  Decision Tree  Random Forest  \\\n",
       "accuracy     0.409239             0.566363       0.443559        0.54473   \n",
       "\n",
       "               SVM  \n",
       "accuracy  0.532368  "
      ]
     },
     "execution_count": 101,
     "metadata": {},
     "output_type": "execute_result"
    }
   ],
   "source": [
    "model_compare"
   ]
  },
  {
   "cell_type": "code",
   "execution_count": 102,
   "metadata": {},
   "outputs": [
    {
     "data": {
      "image/png": "[encoded data removed]",
      "text/plain": [
       "<Figure size 1080x720 with 1 Axes>"
      ]
     },
     "metadata": {
      "needs_background": "light"
     },
     "output_type": "display_data"
    }
   ],
   "source": [
    "model_compare.T.plot.bar(figsize=(15,10));"
   ]
  },
  {
   "cell_type": "code",
   "execution_count": 103,
   "metadata": {},
   "outputs": [],
   "source": [
    "model_compare_tfidf = pd.DataFrame({                            \"Logistic Regression\":lr_tfidf_score,\n",
    "                           \"Decision Tree\":dtc_tfidf_accuracy,\n",
    "                              \"Random Forest\":random_tdif_score,\n",
    "                              \"SVM\":svm_tfidf_score,\n",
    "                            },index=[\"accuracy\"])"
   ]
  },
  {
   "cell_type": "code",
   "execution_count": 104,
   "metadata": {},
   "outputs": [
    {
     "data": {
      "text/html": [
       "<div>\n",
       "<style scoped>\n",
       "    .dataframe tbody tr th:only-of-type {\n",
       "        vertical-align: middle;\n",
       "    }\n",
       "\n",
       "    .dataframe tbody tr th {\n",
       "        vertical-align: top;\n",
       "    }\n",
       "\n",
       "    .dataframe thead th {\n",
       "        text-align: right;\n",
       "    }\n",
       "</style>\n",
       "<table border=\"1\" class=\"dataframe\">\n",
       "  <thead>\n",
       "    <tr style=\"text-align: right;\">\n",
       "      <th></th>\n",
       "      <th>Logistic Regression</th>\n",
       "      <th>Decision Tree</th>\n",
       "      <th>Random Forest</th>\n",
       "      <th>SVM</th>\n",
       "    </tr>\n",
       "  </thead>\n",
       "  <tbody>\n",
       "    <tr>\n",
       "      <th>accuracy</th>\n",
       "      <td>0.62069</td>\n",
       "      <td>0.449577</td>\n",
       "      <td>0.553676</td>\n",
       "      <td>0.610442</td>\n",
       "    </tr>\n",
       "  </tbody>\n",
       "</table>\n",
       "</div>"
      ],
      "text/plain": [
       "          Logistic Regression  Decision Tree  Random Forest       SVM\n",
       "accuracy              0.62069       0.449577       0.553676  0.610442"
      ]
     },
     "execution_count": 104,
     "metadata": {},
     "output_type": "execute_result"
    }
   ],
   "source": [
    "model_compare_tfidf"
   ]
  },
  {
   "cell_type": "code",
   "execution_count": 105,
   "metadata": {},
   "outputs": [
    {
     "data": {
      "image/png": "[encoded data removed]",
      "text/plain": [
       "<Figure size 1080x720 with 1 Axes>"
      ]
     },
     "metadata": {
      "needs_background": "light"
     },
     "output_type": "display_data"
    }
   ],
   "source": [
    "model_compare_tfidf.T.plot.bar(figsize=(15,10));"
   ]
  },
  {
   "cell_type": "markdown",
   "metadata": {},
   "source": [
    "# Choose Logistic Regression for deployment as it has the maximum accuracy"
   ]
  },
  {
   "cell_type": "markdown",
   "metadata": {},
   "source": [
    "# Saving the model"
   ]
  },
  {
   "cell_type": "code",
   "execution_count": 106,
   "metadata": {},
   "outputs": [],
   "source": [
    "import pickle\n",
    "pickle.dump(lr,open(\"Rating.pkl\",\"wb\"))"
   ]
  },
  {
   "cell_type": "code",
   "execution_count": 108,
   "metadata": {},
   "outputs": [
    {
     "data": {
      "text/plain": [
       "0.6206896551724138"
      ]
     },
     "execution_count": 108,
     "metadata": {},
     "output_type": "execute_result"
    }
   ],
   "source": [
    "model_load = pickle.load(open(\"Rating.pkl\",\"rb\"))\n",
    "model_load.predict(xtest_tfidf)\n",
    "model_load.score(xtest_tfidf,ytest_tfidf)"
   ]
  },
  {
   "cell_type": "code",
   "execution_count": null,
   "metadata": {},
   "outputs": [],
   "source": []
  }
 ],
 "metadata": {
  "kernelspec": {
   "display_name": "Python 3",
   "language": "python",
   "name": "python3"
  },
  "language_info": {
   "codemirror_mode": {
    "name": "ipython",
    "version": 3
   },
   "file_extension": ".py",
   "mimetype": "text/x-python",
   "name": "python",
   "nbconvert_exporter": "python",
   "pygments_lexer": "ipython3",
   "version": "3.7.6"
  }
 },
 "nbformat": 4,
 "nbformat_minor": 4
}
